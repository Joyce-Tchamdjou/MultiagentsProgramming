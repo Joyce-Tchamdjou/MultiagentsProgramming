{
 "cells": [
  {
   "cell_type": "code",
   "execution_count": 2,
   "metadata": {},
   "outputs": [
    {
     "name": "stdout",
     "output_type": "stream",
     "text": [
      "Collecting mesa\n",
      "  Downloading Mesa-0.9.0-py3-none-any.whl (691 kB)\n",
      "Requirement already satisfied: numpy in c:\\programdata\\anaconda3\\lib\\site-packages (from -r requirements.txt (line 2)) (1.20.3)\n",
      "Requirement already satisfied: tornado in c:\\programdata\\anaconda3\\lib\\site-packages (from -r requirements.txt (line 3)) (6.1)\n",
      "Requirement already satisfied: pandas in c:\\programdata\\anaconda3\\lib\\site-packages (from -r requirements.txt (line 4)) (1.3.4)\n",
      "Requirement already satisfied: click in c:\\programdata\\anaconda3\\lib\\site-packages (from mesa->-r requirements.txt (line 1)) (8.0.3)\n",
      "Requirement already satisfied: networkx in c:\\programdata\\anaconda3\\lib\\site-packages (from mesa->-r requirements.txt (line 1)) (2.6.3)\n",
      "Requirement already satisfied: tqdm in c:\\programdata\\anaconda3\\lib\\site-packages (from mesa->-r requirements.txt (line 1)) (4.62.3)\n",
      "Requirement already satisfied: cookiecutter in c:\\programdata\\anaconda3\\lib\\site-packages (from mesa->-r requirements.txt (line 1)) (1.7.2)\n",
      "Requirement already satisfied: pytz>=2017.3 in c:\\programdata\\anaconda3\\lib\\site-packages (from pandas->-r requirements.txt (line 4)) (2021.3)\n",
      "Requirement already satisfied: python-dateutil>=2.7.3 in c:\\programdata\\anaconda3\\lib\\site-packages (from pandas->-r requirements.txt (line 4)) (2.8.2)\n",
      "Requirement already satisfied: six>=1.5 in c:\\programdata\\anaconda3\\lib\\site-packages (from python-dateutil>=2.7.3->pandas->-r requirements.txt (line 4)) (1.16.0)\n",
      "Requirement already satisfied: colorama in c:\\programdata\\anaconda3\\lib\\site-packages (from click->mesa->-r requirements.txt (line 1)) (0.4.4)\n",
      "Requirement already satisfied: poyo>=0.5.0 in c:\\programdata\\anaconda3\\lib\\site-packages (from cookiecutter->mesa->-r requirements.txt (line 1)) (0.5.0)\n",
      "Requirement already satisfied: requests>=2.23.0 in c:\\programdata\\anaconda3\\lib\\site-packages (from cookiecutter->mesa->-r requirements.txt (line 1)) (2.26.0)\n",
      "Requirement already satisfied: jinja2-time>=0.2.0 in c:\\programdata\\anaconda3\\lib\\site-packages (from cookiecutter->mesa->-r requirements.txt (line 1)) (0.2.0)\n",
      "Requirement already satisfied: python-slugify>=4.0.0 in c:\\programdata\\anaconda3\\lib\\site-packages (from cookiecutter->mesa->-r requirements.txt (line 1)) (5.0.2)\n",
      "Requirement already satisfied: binaryornot>=0.4.4 in c:\\programdata\\anaconda3\\lib\\site-packages (from cookiecutter->mesa->-r requirements.txt (line 1)) (0.4.4)\n",
      "Requirement already satisfied: Jinja2<3.0.0 in c:\\programdata\\anaconda3\\lib\\site-packages (from cookiecutter->mesa->-r requirements.txt (line 1)) (2.11.3)\n",
      "Requirement already satisfied: MarkupSafe<2.0.0 in c:\\programdata\\anaconda3\\lib\\site-packages (from cookiecutter->mesa->-r requirements.txt (line 1)) (1.1.1)\n",
      "Requirement already satisfied: chardet>=3.0.2 in c:\\programdata\\anaconda3\\lib\\site-packages (from binaryornot>=0.4.4->cookiecutter->mesa->-r requirements.txt (line 1)) (4.0.0)\n",
      "Requirement already satisfied: arrow in c:\\programdata\\anaconda3\\lib\\site-packages (from jinja2-time>=0.2.0->cookiecutter->mesa->-r requirements.txt (line 1)) (0.13.1)\n",
      "Requirement already satisfied: text-unidecode>=1.3 in c:\\programdata\\anaconda3\\lib\\site-packages (from python-slugify>=4.0.0->cookiecutter->mesa->-r requirements.txt (line 1)) (1.3)\n",
      "Requirement already satisfied: urllib3<1.27,>=1.21.1 in c:\\programdata\\anaconda3\\lib\\site-packages (from requests>=2.23.0->cookiecutter->mesa->-r requirements.txt (line 1)) (1.26.7)\n",
      "Requirement already satisfied: charset-normalizer~=2.0.0 in c:\\programdata\\anaconda3\\lib\\site-packages (from requests>=2.23.0->cookiecutter->mesa->-r requirements.txt (line 1)) (2.0.4)\n",
      "Requirement already satisfied: certifi>=2017.4.17 in c:\\programdata\\anaconda3\\lib\\site-packages (from requests>=2.23.0->cookiecutter->mesa->-r requirements.txt (line 1)) (2021.10.8)\n",
      "Requirement already satisfied: idna<4,>=2.5 in c:\\programdata\\anaconda3\\lib\\site-packages (from requests>=2.23.0->cookiecutter->mesa->-r requirements.txt (line 1)) (3.2)\n",
      "Installing collected packages: mesa\n",
      "Successfully installed mesa-0.9.0\n"
     ]
    }
   ],
   "source": [
    "!pip install -r requirements.txt"
   ]
  },
  {
   "cell_type": "markdown",
   "metadata": {},
   "source": [
    "# Introduction\n",
    "\n",
    "Dans ce TP, nous allons étudier un système inspiré du \\textsl{Mars Explorer} de Luc Steels un peu modifié. La problématique est la suivante: un endroit impénétrable aux ondes a été miné, et le but est de le déminer. Pour cela, on emploie une équipe de robots capables de détecter les mines et de les désarmer. Puisqu'il est impossible de communiquer avec l'intérieur de l'endroit, les machines doivent constituer un système autonome et efficace. Les agents décrits dans le cadre de ce TP sont basés sur les principes des agents réactifs et permettent de résoudre ce problème.\n"
   ]
  },
  {
   "cell_type": "code",
   "execution_count": 3,
   "metadata": {},
   "outputs": [],
   "source": [
    "import enum\n",
    "import math\n",
    "import random\n",
    "import uuid\n",
    "from enum import Enum\n",
    "\n",
    "import mesa\n",
    "import numpy as np\n",
    "from collections import defaultdict\n",
    "\n",
    "import mesa.space\n",
    "from mesa import Agent, Model\n",
    "from mesa.datacollection import DataCollector\n",
    "from mesa.time import RandomActivation\n",
    "from mesa.visualization.ModularVisualization import VisualizationElement, ModularServer\n",
    "from mesa.visualization.modules import ChartModule\n",
    "\n",
    "MAX_ITERATION = 100\n",
    "PROBA_CHGT_ANGLE = 0.01\n"
   ]
  },
  {
   "cell_type": "markdown",
   "metadata": {},
   "source": [
    "L'environnement est composé de trois éléments principaux:\n",
    "\n",
    "- les mines sont les objets que le robot doit détecter. Une fois une mine détectée, le robot se place aux mêmes coordonnées qu'elle et le détruit,\n",
    "- les obstacles sont des éléments qui ne doivent pas être détruits. De plus, un robot ne doit jamais se retrouver sur un obstacle, ce qui comprend son emplacement et un rayon de 2 unités autour de lui.\n",
    "- des sables mouvants, qui ralentissent les agents (ils vont alors à la moitié de leur vitesse normale)"
   ]
  },
  {
   "cell_type": "code",
   "execution_count": 4,
   "metadata": {},
   "outputs": [],
   "source": [
    "class Obstacle:  # Environnement: obstacle\n",
    "    def __init__(self, x, y, r):\n",
    "        self.x = x\n",
    "        self.y = y\n",
    "        self.r = r\n",
    "\n",
    "    def portrayal_method(self):\n",
    "        portrayal = {\"Shape\": \"circle\",\n",
    "                     \"Filled\": \"true\",\n",
    "                     \"Layer\": 1,\n",
    "                     \"Color\": \"black\",\n",
    "                     \"r\": self.r}\n",
    "        return portrayal\n",
    "\n",
    "\n",
    "class Quicksand:  # Environnement: ralentissement\n",
    "    def __init__(self, x, y, r):\n",
    "        self.x = x\n",
    "        self.y = y\n",
    "        self.r = r\n",
    "\n",
    "    def portrayal_method(self):\n",
    "        portrayal = {\"Shape\": \"circle\",\n",
    "                     \"Filled\": \"true\",\n",
    "                     \"Layer\": 1,\n",
    "                     \"Color\": \"olive\",\n",
    "                     \"r\": self.r}\n",
    "        return portrayal\n",
    "\n",
    "\n",
    "class Mine:  # Environnement: élément à ramasser\n",
    "    def __init__(self, x, y):\n",
    "        self.x = x\n",
    "        self.y = y\n",
    "\n",
    "    def portrayal_method(self):\n",
    "        portrayal = {\"Shape\": \"circle\",\n",
    "                     \"Filled\": \"true\",\n",
    "                     \"Layer\": 2,\n",
    "                     \"Color\": \"black\",\n",
    "                     \"r\": 2}\n",
    "        return portrayal\n",
    "\n"
   ]
  },
  {
   "cell_type": "markdown",
   "metadata": {},
   "source": [
    "Enfin, les robots doivent s'éviter. On supposera qu'ils ne doivent jamais se croiser. Voici le code concernant le Canvas:"
   ]
  },
  {
   "cell_type": "code",
   "execution_count": 5,
   "metadata": {},
   "outputs": [],
   "source": [
    "class ContinuousCanvas(VisualizationElement):\n",
    "    local_includes = [\n",
    "        \"./js/simple_continuous_canvas.js\",\n",
    "    ]\n",
    "\n",
    "    def __init__(self, canvas_height=500,\n",
    "                 canvas_width=500, instantiate=True):\n",
    "        VisualizationElement.__init__(self)\n",
    "        self.canvas_height = canvas_height\n",
    "        self.canvas_width = canvas_width\n",
    "        self.identifier = \"space-canvas\"\n",
    "        if (instantiate):\n",
    "            new_element = (\"new Simple_Continuous_Module({}, {},'{}')\".\n",
    "                           format(self.canvas_width, self.canvas_height, self.identifier))\n",
    "            self.js_code = \"elements.push(\" + new_element + \");\"\n",
    "\n",
    "    def portrayal_method(self, obj):\n",
    "        return obj.portrayal_method()\n",
    "\n",
    "    def render(self, model):\n",
    "        representation = defaultdict(list)\n",
    "        for obj in model.schedule.agents:\n",
    "            portrayal = self.portrayal_method(obj)\n",
    "            if portrayal:\n",
    "                portrayal[\"x\"] = ((obj.x - model.space.x_min) /\n",
    "                                  (model.space.x_max - model.space.x_min))\n",
    "                portrayal[\"y\"] = ((obj.y - model.space.y_min) /\n",
    "                                  (model.space.y_max - model.space.y_min))\n",
    "            representation[portrayal[\"Layer\"]].append(portrayal)\n",
    "        for obj in model.mines:\n",
    "            portrayal = self.portrayal_method(obj)\n",
    "            if portrayal:\n",
    "                portrayal[\"x\"] = ((obj.x - model.space.x_min) /\n",
    "                                  (model.space.x_max - model.space.x_min))\n",
    "                portrayal[\"y\"] = ((obj.y - model.space.y_min) /\n",
    "                                  (model.space.y_max - model.space.y_min))\n",
    "            representation[portrayal[\"Layer\"]].append(portrayal)\n",
    "        for obj in model.markers:\n",
    "            portrayal = self.portrayal_method(obj)\n",
    "            if portrayal:\n",
    "                portrayal[\"x\"] = ((obj.x - model.space.x_min) /\n",
    "                                  (model.space.x_max - model.space.x_min))\n",
    "                portrayal[\"y\"] = ((obj.y - model.space.y_min) /\n",
    "                                  (model.space.y_max - model.space.y_min))\n",
    "            representation[portrayal[\"Layer\"]].append(portrayal)\n",
    "        for obj in model.obstacles:\n",
    "            portrayal = self.portrayal_method(obj)\n",
    "            if portrayal:\n",
    "                portrayal[\"x\"] = ((obj.x - model.space.x_min) /\n",
    "                                  (model.space.x_max - model.space.x_min))\n",
    "                portrayal[\"y\"] = ((obj.y - model.space.y_min) /\n",
    "                                  (model.space.y_max - model.space.y_min))\n",
    "            representation[portrayal[\"Layer\"]].append(portrayal)\n",
    "        for obj in model.quicksands:\n",
    "            portrayal = self.portrayal_method(obj)\n",
    "            if portrayal:\n",
    "                portrayal[\"x\"] = ((obj.x - model.space.x_min) /\n",
    "                                  (model.space.x_max - model.space.x_min))\n",
    "                portrayal[\"y\"] = ((obj.y - model.space.y_min) /\n",
    "                                  (model.space.y_max - model.space.y_min))\n",
    "            representation[portrayal[\"Layer\"]].append(portrayal)\n",
    "        return representation\n"
   ]
  },
  {
   "cell_type": "markdown",
   "metadata": {},
   "source": [
    "# Description basique du robot\n",
    "Le robot est doté d'un certain nombre de capacités primaires: il peut se déplacer, détecter un obstacle ou un autre robot à éviter, détecter une mine et la détruire. Voici les comportements attendus par le robot:\n",
    "- **Se déplacer** lorsque le robot est à la recherche de mines, il se déplace de manière rectiligne, à une vitesse `speed` et selon un angle `angle`. Selon une probabilité fixée par avance (`PROBA_CHGT_ANGLE`), le robot peut changer de direction. Dans ce cas, son nouvel angle est un angle aléatoire choisi.\n",
    "- **Éviter un autre robot** Lorsqu'un ou plusieurs autres robots se trouve à portée de détection, le robot calcule son futur mouvement et vérifie si les robots à portée pourraient entrer en collision avec lui. Puisqu'il ne connaît que la position des autres robots et non leur angle, il considère qu'une collision est possible si sa position au tour suivant ou n'importe quelle position intermédiaire entre sa position actuelle et sa position future se trouvent à une distance inférieure à la vitesse maximale de l'autre robot. Si c'est le cas, il modifie son angle jusqu'à trouver un angle où il n'y ait pas de collision.\n",
    "- **Éviter un obstacle / les bords de l'environnement** Si un robot détecte un ou plusieurs obstacles, il procède au même calcul, mais il considère qu'une collision est possible si sa future position est dans l'obstacle.  Pour simplifier, on ne prendra pas en compte le fait qu'un robot puisse traverser un obstacle.\n",
    "- **Détruire une mine** Lorsqu'un agent se trouve sur une mine, il la désamorce (dans mesa, il la retire du `model`). Détruire une mine est une action qui peut être menée en plus du déplacement.\n",
    "- **Se diriger vers une mine** Lorsqu'un agent détecte une mine, il se dirige vers la mine à sa vitesse, sans prendre en compte ni modifier son angle."
   ]
  },
  {
   "cell_type": "code",
   "execution_count": 6,
   "metadata": {},
   "outputs": [],
   "source": [
    "class Robot(Agent):  # La classe des agents\n",
    "    def __init__(self, unique_id: int, model: Model, x, y, speed, sight_distance, angle=0.0):\n",
    "        super().__init__(unique_id, model)\n",
    "        self.x = x\n",
    "        self.y = y\n",
    "        self.speed = speed\n",
    "        self.sight_distance = sight_distance\n",
    "        self.angle = angle\n",
    "        self.counter = 0\n",
    "\n",
    "    def step(self):\n",
    "        # Se deplacer et/ou aller vers une mine\n",
    "        detect_mine = False\n",
    "        mins = [mine for mine in model.mines if np.sqrt((self.x - mine.x)**2 + (self.y - mine.y)**2) <= self.sight_distance]\n",
    "        pick = 0\n",
    "        target = mins[0]\n",
    "        \n",
    "        if len(mins) != 0:\n",
    "            pick = random.randint(0, len(mins)-1)\n",
    "            target = mins[pick]\n",
    "            dest_x, dest_y, ang = go_to(self.x, self.y, self.speed, target.x, target.y)\n",
    "            detect_mine = True\n",
    "            #self.x = dest_x\n",
    "            #self.y = dest_y\n",
    "            #model.schedule.remove(target)\n",
    "        else:\n",
    "            prob = random.random()\n",
    "            speed = self.speed\n",
    "            for sand in model.quicksands:\n",
    "                if self.x == sand.x and self.y == self.y:\n",
    "                    speed = self.speed / 2\n",
    "                    \n",
    "            if prob < PROBA_CHGT_ANGLE:\n",
    "                ang = np.radians(random.random())\n",
    "                dest_x, dest_y = move(self.x, self.y, speed, ang)\n",
    "            else:\n",
    "                dest_x, dest_y = move(self.x, self.y, speed, self.angle)\n",
    "                \n",
    "            obsts = [obst for obst in model.obstacles if np.sqrt((self.x - obst.x)**2 + (self.y - obst.y)**2) <= self.sight_distance]\n",
    "            target_obsts = [obst for obst in obsts if np.sqrt((dest_x - obst.x)**2 + (dest_y - obst.y)**2) <= 2.0]\n",
    "            \n",
    "            robs = [rob for rob in model.schedule.agents if np.sqrt((self.x - rob.x)**2 + (self.y - rob.y)**2) <= self.sight_distance]\n",
    "            a = (dest_y - self.y)/(dest_x - self.x)\n",
    "            b = (self.y*dest_x - dest_y*self.x)/(dest_x - self.x)\n",
    "            x0 = (dest_x - self.x)/2\n",
    "            y0 = (dest_y - self.y)/2\n",
    "            rad = (1/2)*np.sqrt((self.x - dest_x)**2 + (self.y - dest_y)**2)\n",
    "            target_robs = [rob for rob in robs if np.abs(a*rob.x - rob.y + b)/np.sqrt(a**2 + b**2) <= rob.speed and np.sqrt((rob.x - x0)**2 + (rob.y - y0)**2) <= rad]\n",
    "            \n",
    "            while len(target_robs) != 0 or len(target_obsts) != 0:\n",
    "                if detect_mine and len(mins) > 0:\n",
    "                    del mins[pick]\n",
    "                    pick = random.randint(0, len(mins)-1)\n",
    "                    target = mins[pick]\n",
    "                    dest_x, dest_y, ang = go_to(self.x, self.y, self.speed, target.x, target.y)\n",
    "                else:\n",
    "                    detect_mine = False\n",
    "                    ang = np.radians(random.random())\n",
    "                    dest_x, dest_y = move(self.x, self.y, speed, ang)\n",
    "                a = (dest_y - self.y)/(dest_x - self.x)\n",
    "                b = (self.y*dest_x - dest_y*self.x)/(dest_x - self.x)\n",
    "                x0 = (dest_x - self.x)/2\n",
    "                y0 = (dest_y - self.y)/2\n",
    "                rad = (1/2)*np.sqrt((self.x - dest_x)**2 + (self.y - dest_y)**2)\n",
    "                target_robs = [rob for rob in robs if np.abs(a*rob.x - rob.y + b)/np.sqrt(a**2 + b**2) <= rob.speed and np.sqrt((rob.x - x0)**2 + (rob.y - y0)**2) <= rad]\n",
    "                target_obsts = [obst for obst in obsts if np.sqrt((dest_x - obst.x)**2 + (dest_y - obst.y)**2) <= 2.0]\n",
    "            self.x = dest_x\n",
    "            self.y = dest_y\n",
    "            \n",
    "            if detect_mine:\n",
    "                model.schedule.remove(target)\n",
    "            \n",
    "        \n",
    "        pass  # TODO L'intégralité du code du TP peut être ajoutée ici.\n",
    "\n",
    "    def portrayal_method(self):\n",
    "        portrayal = {\"Shape\": \"arrowHead\", \"s\": 1, \"Filled\": \"true\", \"Color\": \"Red\", \"Layer\": 3, 'x': self.x,\n",
    "                     'y': self.y, \"angle\": self.angle}\n",
    "        return portrayal\n"
   ]
  },
  {
   "cell_type": "markdown",
   "metadata": {},
   "source": [
    "Vous pouvez vous appuyer sur ces deux fonctions: "
   ]
  },
  {
   "cell_type": "code",
   "execution_count": 7,
   "metadata": {},
   "outputs": [],
   "source": [
    "def move(x, y, speed, angle):  # se déplacer de speed selon l'angle angle depuis x, y\n",
    "    return x + speed * math.cos(angle), y + speed * math.sin(angle)\n",
    "\n",
    "\n",
    "def go_to(x, y, speed, dest_x, dest_y):  # se déplacer de speed vers (dest_x, dest_y) ou si la speed est trop importante s'y arrêter.\n",
    "    if np.linalg.norm((x - dest_x, y - dest_y)) < speed:\n",
    "        return (dest_x, dest_y), 2 * math.pi * random.random()\n",
    "    else:\n",
    "        angle = math.acos((dest_x - x)/np.linalg.norm((x - dest_x, y - dest_y)))\n",
    "        if dest_y < y:\n",
    "            angle = - angle\n",
    "        return move(x, y, speed, angle), angle\n"
   ]
  },
  {
   "cell_type": "markdown",
   "metadata": {},
   "source": [
    "Enfin, le modèle et le lancement du serveur:"
   ]
  },
  {
   "cell_type": "code",
   "execution_count": 8,
   "metadata": {},
   "outputs": [
    {
     "name": "stdout",
     "output_type": "stream",
     "text": [
      "Interface starting at http://127.0.0.1:8521\n"
     ]
    },
    {
     "ename": "RuntimeError",
     "evalue": "This event loop is already running",
     "output_type": "error",
     "traceback": [
      "\u001b[1;31m---------------------------------------------------------------------------\u001b[0m",
      "\u001b[1;31mRuntimeError\u001b[0m                              Traceback (most recent call last)",
      "\u001b[1;32mC:\\Users\\JOYCEP~1\\AppData\\Local\\Temp/ipykernel_6020/3609292481.py\u001b[0m in \u001b[0;36m<module>\u001b[1;34m\u001b[0m\n\u001b[0;32m     73\u001b[0m \u001b[1;33m\u001b[0m\u001b[0m\n\u001b[0;32m     74\u001b[0m \u001b[1;32mif\u001b[0m \u001b[0m__name__\u001b[0m \u001b[1;33m==\u001b[0m \u001b[1;34m\"__main__\"\u001b[0m\u001b[1;33m:\u001b[0m\u001b[1;33m\u001b[0m\u001b[1;33m\u001b[0m\u001b[0m\n\u001b[1;32m---> 75\u001b[1;33m     \u001b[0mrun_single_server\u001b[0m\u001b[1;33m(\u001b[0m\u001b[1;33m)\u001b[0m\u001b[1;33m\u001b[0m\u001b[1;33m\u001b[0m\u001b[0m\n\u001b[0m\u001b[0;32m     76\u001b[0m \u001b[1;33m\u001b[0m\u001b[0m\n",
      "\u001b[1;32mC:\\Users\\JOYCEP~1\\AppData\\Local\\Temp/ipykernel_6020/3609292481.py\u001b[0m in \u001b[0;36mrun_single_server\u001b[1;34m()\u001b[0m\n\u001b[0;32m     69\u001b[0m                             ModularVisualization.UserSettableParameter('slider', \"Number of mines\", 15, 5, 30, 1)})\n\u001b[0;32m     70\u001b[0m     \u001b[0mserver\u001b[0m\u001b[1;33m.\u001b[0m\u001b[0mport\u001b[0m \u001b[1;33m=\u001b[0m \u001b[1;36m8521\u001b[0m\u001b[1;33m\u001b[0m\u001b[1;33m\u001b[0m\u001b[0m\n\u001b[1;32m---> 71\u001b[1;33m     \u001b[0mserver\u001b[0m\u001b[1;33m.\u001b[0m\u001b[0mlaunch\u001b[0m\u001b[1;33m(\u001b[0m\u001b[1;33m)\u001b[0m\u001b[1;33m\u001b[0m\u001b[1;33m\u001b[0m\u001b[0m\n\u001b[0m\u001b[0;32m     72\u001b[0m \u001b[1;33m\u001b[0m\u001b[0m\n\u001b[0;32m     73\u001b[0m \u001b[1;33m\u001b[0m\u001b[0m\n",
      "\u001b[1;32mC:\\ProgramData\\Anaconda3\\lib\\site-packages\\mesa\\visualization\\ModularVisualization.py\u001b[0m in \u001b[0;36mlaunch\u001b[1;34m(self, port, open_browser)\u001b[0m\n\u001b[0;32m    335\u001b[0m             \u001b[0mwebbrowser\u001b[0m\u001b[1;33m.\u001b[0m\u001b[0mopen\u001b[0m\u001b[1;33m(\u001b[0m\u001b[0murl\u001b[0m\u001b[1;33m)\u001b[0m\u001b[1;33m\u001b[0m\u001b[1;33m\u001b[0m\u001b[0m\n\u001b[0;32m    336\u001b[0m         \u001b[0mtornado\u001b[0m\u001b[1;33m.\u001b[0m\u001b[0mautoreload\u001b[0m\u001b[1;33m.\u001b[0m\u001b[0mstart\u001b[0m\u001b[1;33m(\u001b[0m\u001b[1;33m)\u001b[0m\u001b[1;33m\u001b[0m\u001b[1;33m\u001b[0m\u001b[0m\n\u001b[1;32m--> 337\u001b[1;33m         \u001b[0mtornado\u001b[0m\u001b[1;33m.\u001b[0m\u001b[0mioloop\u001b[0m\u001b[1;33m.\u001b[0m\u001b[0mIOLoop\u001b[0m\u001b[1;33m.\u001b[0m\u001b[0mcurrent\u001b[0m\u001b[1;33m(\u001b[0m\u001b[1;33m)\u001b[0m\u001b[1;33m.\u001b[0m\u001b[0mstart\u001b[0m\u001b[1;33m(\u001b[0m\u001b[1;33m)\u001b[0m\u001b[1;33m\u001b[0m\u001b[1;33m\u001b[0m\u001b[0m\n\u001b[0m",
      "\u001b[1;32mC:\\ProgramData\\Anaconda3\\lib\\site-packages\\tornado\\platform\\asyncio.py\u001b[0m in \u001b[0;36mstart\u001b[1;34m(self)\u001b[0m\n\u001b[0;32m    197\u001b[0m             \u001b[0mself\u001b[0m\u001b[1;33m.\u001b[0m\u001b[0m_setup_logging\u001b[0m\u001b[1;33m(\u001b[0m\u001b[1;33m)\u001b[0m\u001b[1;33m\u001b[0m\u001b[1;33m\u001b[0m\u001b[0m\n\u001b[0;32m    198\u001b[0m             \u001b[0masyncio\u001b[0m\u001b[1;33m.\u001b[0m\u001b[0mset_event_loop\u001b[0m\u001b[1;33m(\u001b[0m\u001b[0mself\u001b[0m\u001b[1;33m.\u001b[0m\u001b[0masyncio_loop\u001b[0m\u001b[1;33m)\u001b[0m\u001b[1;33m\u001b[0m\u001b[1;33m\u001b[0m\u001b[0m\n\u001b[1;32m--> 199\u001b[1;33m             \u001b[0mself\u001b[0m\u001b[1;33m.\u001b[0m\u001b[0masyncio_loop\u001b[0m\u001b[1;33m.\u001b[0m\u001b[0mrun_forever\u001b[0m\u001b[1;33m(\u001b[0m\u001b[1;33m)\u001b[0m\u001b[1;33m\u001b[0m\u001b[1;33m\u001b[0m\u001b[0m\n\u001b[0m\u001b[0;32m    200\u001b[0m         \u001b[1;32mfinally\u001b[0m\u001b[1;33m:\u001b[0m\u001b[1;33m\u001b[0m\u001b[1;33m\u001b[0m\u001b[0m\n\u001b[0;32m    201\u001b[0m             \u001b[0masyncio\u001b[0m\u001b[1;33m.\u001b[0m\u001b[0mset_event_loop\u001b[0m\u001b[1;33m(\u001b[0m\u001b[0mold_loop\u001b[0m\u001b[1;33m)\u001b[0m\u001b[1;33m\u001b[0m\u001b[1;33m\u001b[0m\u001b[0m\n",
      "\u001b[1;32mC:\\ProgramData\\Anaconda3\\lib\\asyncio\\base_events.py\u001b[0m in \u001b[0;36mrun_forever\u001b[1;34m(self)\u001b[0m\n\u001b[0;32m    584\u001b[0m         \u001b[1;34m\"\"\"Run until stop() is called.\"\"\"\u001b[0m\u001b[1;33m\u001b[0m\u001b[1;33m\u001b[0m\u001b[0m\n\u001b[0;32m    585\u001b[0m         \u001b[0mself\u001b[0m\u001b[1;33m.\u001b[0m\u001b[0m_check_closed\u001b[0m\u001b[1;33m(\u001b[0m\u001b[1;33m)\u001b[0m\u001b[1;33m\u001b[0m\u001b[1;33m\u001b[0m\u001b[0m\n\u001b[1;32m--> 586\u001b[1;33m         \u001b[0mself\u001b[0m\u001b[1;33m.\u001b[0m\u001b[0m_check_running\u001b[0m\u001b[1;33m(\u001b[0m\u001b[1;33m)\u001b[0m\u001b[1;33m\u001b[0m\u001b[1;33m\u001b[0m\u001b[0m\n\u001b[0m\u001b[0;32m    587\u001b[0m         \u001b[0mself\u001b[0m\u001b[1;33m.\u001b[0m\u001b[0m_set_coroutine_origin_tracking\u001b[0m\u001b[1;33m(\u001b[0m\u001b[0mself\u001b[0m\u001b[1;33m.\u001b[0m\u001b[0m_debug\u001b[0m\u001b[1;33m)\u001b[0m\u001b[1;33m\u001b[0m\u001b[1;33m\u001b[0m\u001b[0m\n\u001b[0;32m    588\u001b[0m         \u001b[0mself\u001b[0m\u001b[1;33m.\u001b[0m\u001b[0m_thread_id\u001b[0m \u001b[1;33m=\u001b[0m \u001b[0mthreading\u001b[0m\u001b[1;33m.\u001b[0m\u001b[0mget_ident\u001b[0m\u001b[1;33m(\u001b[0m\u001b[1;33m)\u001b[0m\u001b[1;33m\u001b[0m\u001b[1;33m\u001b[0m\u001b[0m\n",
      "\u001b[1;32mC:\\ProgramData\\Anaconda3\\lib\\asyncio\\base_events.py\u001b[0m in \u001b[0;36m_check_running\u001b[1;34m(self)\u001b[0m\n\u001b[0;32m    576\u001b[0m     \u001b[1;32mdef\u001b[0m \u001b[0m_check_running\u001b[0m\u001b[1;33m(\u001b[0m\u001b[0mself\u001b[0m\u001b[1;33m)\u001b[0m\u001b[1;33m:\u001b[0m\u001b[1;33m\u001b[0m\u001b[1;33m\u001b[0m\u001b[0m\n\u001b[0;32m    577\u001b[0m         \u001b[1;32mif\u001b[0m \u001b[0mself\u001b[0m\u001b[1;33m.\u001b[0m\u001b[0mis_running\u001b[0m\u001b[1;33m(\u001b[0m\u001b[1;33m)\u001b[0m\u001b[1;33m:\u001b[0m\u001b[1;33m\u001b[0m\u001b[1;33m\u001b[0m\u001b[0m\n\u001b[1;32m--> 578\u001b[1;33m             \u001b[1;32mraise\u001b[0m \u001b[0mRuntimeError\u001b[0m\u001b[1;33m(\u001b[0m\u001b[1;34m'This event loop is already running'\u001b[0m\u001b[1;33m)\u001b[0m\u001b[1;33m\u001b[0m\u001b[1;33m\u001b[0m\u001b[0m\n\u001b[0m\u001b[0;32m    579\u001b[0m         \u001b[1;32mif\u001b[0m \u001b[0mevents\u001b[0m\u001b[1;33m.\u001b[0m\u001b[0m_get_running_loop\u001b[0m\u001b[1;33m(\u001b[0m\u001b[1;33m)\u001b[0m \u001b[1;32mis\u001b[0m \u001b[1;32mnot\u001b[0m \u001b[1;32mNone\u001b[0m\u001b[1;33m:\u001b[0m\u001b[1;33m\u001b[0m\u001b[1;33m\u001b[0m\u001b[0m\n\u001b[0;32m    580\u001b[0m             raise RuntimeError(\n",
      "\u001b[1;31mRuntimeError\u001b[0m: This event loop is already running"
     ]
    },
    {
     "name": "stdout",
     "output_type": "stream",
     "text": [
      "Socket opened!\n",
      "{\"type\":\"reset\"}\n",
      "{\"type\":\"get_step\",\"step\":1}\n"
     ]
    }
   ],
   "source": [
    "class MinedZone(Model):\n",
    "    collector = DataCollector(\n",
    "        model_reporters={\"Mines\": lambda model: len(model.mines),\n",
    "                         \"Danger markers\": lambda model: len([m for m in model.markers if\n",
    "                                                          m.purpose == MarkerPurpose.DANGER]),\n",
    "                         \"Indication markers\": lambda model: len([m for m in model.markers if\n",
    "                                                          m.purpose == MarkerPurpose.INDICATION]),\n",
    "                         },\n",
    "        agent_reporters={})\n",
    "\n",
    "    def __init__(self, n_robots, n_obstacles, n_quicksand, n_mines, speed):\n",
    "        Model.__init__(self)\n",
    "        self.space = mesa.space.ContinuousSpace(600, 600, False)\n",
    "        self.schedule = RandomActivation(self)\n",
    "        self.mines = []\n",
    "        self.markers = []\n",
    "        self.obstacles = []\n",
    "        self.quicksands = []\n",
    "        for _ in range(n_obstacles):\n",
    "            self.obstacles.append(Obstacle(random.random() * 500, random.random() * 500, 10 + 20 * random.random()))\n",
    "        for _ in range(n_quicksand):\n",
    "            self.quicksands.append(Quicksand(random.random() * 500, random.random() * 500, 10 + 20 * random.random()))\n",
    "        for _ in range(n_robots):\n",
    "            x, y = random.random() * 500, random.random() * 500\n",
    "            while [o for o in self.obstacles if np.linalg.norm((o.x - x, o.y - y)) < o.r] or \\\n",
    "                    [o for o in self.quicksands if np.linalg.norm((o.x - x, o.y - y)) < o.r]:\n",
    "                x, y = random.random() * 500, random.random() * 500\n",
    "            self.schedule.add(\n",
    "                Robot(int(uuid.uuid1()), self, x, y, speed,\n",
    "                      2 * speed, random.random() * 2 * math.pi))\n",
    "        for _ in range(n_mines):\n",
    "            x, y = random.random() * 500, random.random() * 500\n",
    "            while [o for o in self.obstacles if np.linalg.norm((o.x - x, o.y - y)) < o.r] or \\\n",
    "                    [o for o in self.quicksands if np.linalg.norm((o.x - x, o.y - y)) < o.r]:\n",
    "                x, y = random.random() * 500, random.random() * 500\n",
    "            self.mines.append(Mine(x, y))\n",
    "        self.datacollector = self.collector\n",
    "\n",
    "    def step(self):\n",
    "        self.datacollector.collect(self)\n",
    "        self.schedule.step()\n",
    "        if not self.mines:\n",
    "            self.running = False\n",
    "\n",
    "\n",
    "def run_single_server():\n",
    "    chart = ChartModule([{\"Label\": \"Mines\",\n",
    "                          \"Color\": \"Orange\"},\n",
    "                         {\"Label\": \"Danger markers\",\n",
    "                          \"Color\": \"Red\"},\n",
    "                         {\"Label\": \"Indication markers\",\n",
    "                          \"Color\": \"Green\"}\n",
    "                         ],\n",
    "                        data_collector_name='datacollector')\n",
    "    server = ModularServer(MinedZone,\n",
    "                           [ContinuousCanvas(),\n",
    "                            chart],\n",
    "                           \"Deminer robots\",\n",
    "                           {\"n_robots\": mesa.visualization.\n",
    "                            ModularVisualization.UserSettableParameter('slider', \"Number of robots\", 7, 3,\n",
    "                                                                       15, 1),\n",
    "                            \"n_obstacles\": mesa.visualization.\n",
    "                            ModularVisualization.UserSettableParameter('slider', \"Number of obstacles\", 5, 2, 10, 1),\n",
    "                            \"n_quicksand\": mesa.visualization.\n",
    "                            ModularVisualization.UserSettableParameter('slider', \"Number of quicksand\", 5, 2, 10, 1),\n",
    "                            \"speed\": mesa.visualization.\n",
    "                            ModularVisualization.UserSettableParameter('slider', \"Robot speed\", 15, 5, 40, 5),\n",
    "                            \"n_mines\": mesa.visualization.\n",
    "                            ModularVisualization.UserSettableParameter('slider', \"Number of mines\", 15, 5, 30, 1)})\n",
    "    server.port = 8521\n",
    "    server.launch()\n",
    "\n",
    "\n",
    "if __name__ == \"__main__\":\n",
    "    run_single_server()\n",
    "\n"
   ]
  },
  {
   "cell_type": "markdown",
   "metadata": {},
   "source": [
    "**Question 1** – Quelle architecture vous paraît la plus à même de traiter ce problème ?"
   ]
  },
  {
   "cell_type": "markdown",
   "metadata": {},
   "source": [
    "L'architecture la plus adaptée est celle du subsomption."
   ]
  },
  {
   "cell_type": "markdown",
   "metadata": {},
   "source": [
    "**Question 2** –  Il est capital que les robots ne rentrent pas en collision les uns avec les autres. Cela prime sur chacun de leurs déplacement. Proposer un ordre de priorité pour les comportements décrits ci-dessus qui respecte cette contrainte et permette aux robots d'accomplir leur mission (NB, il est possible que plusieurs comportements doivent être fusionnés)"
   ]
  },
  {
   "cell_type": "markdown",
   "metadata": {},
   "source": [
    "Pour cela on fait déjà les tests qui concernent la position actuelle comme les sables mouvants ou la détection de mines à supprimer. Ensuite on cherche la position suivante en fonction de potentielles mines ou alors d'un déplacement aléatoire et pour celle-ci on modifie l'angle tant qu'un angle qui ne satisfait pas toutes les conditions d'évitement, à savoir collision avec un autre agent ou rencontre d'un obstacle ou d'un bord, n'est pas trouvé."
   ]
  },
  {
   "cell_type": "markdown",
   "metadata": {},
   "source": [
    "Implémentez l'ordre que vous proposé précédemment. Ajoutez une métrique représentant le cumul des mines désamorcées à chaque tour. Enregistrez ce graphe et joignez le à votre TP. Lancez la simulation une dizaine de fois et donnez le temps moyen de désamorçage de toutes les mines."
   ]
  },
  {
   "cell_type": "markdown",
   "metadata": {},
   "source": [
    "*Voir graph_1*"
   ]
  },
  {
   "cell_type": "markdown",
   "metadata": {},
   "source": [
    "**Question 3** – Quels principes des agents réactifs sont ici respectés? Lesquels ne le sont pas? Justifiez."
   ]
  },
  {
   "cell_type": "markdown",
   "metadata": {},
   "source": [
    "La simplicité et l'absence de modèle. En effet, pour chaque perception des agents on a une action qui est effectuée et les données brutes en l'occurence la position des capteurs ne sont pas prétraitées avant d'être exploitées. Par contre la modularité n'est pas respectée car on retrouve des tâches qui s'imbriquent entre elles."
   ]
  },
  {
   "cell_type": "markdown",
   "metadata": {},
   "source": [
    "# Communication indirecte\n",
    "\n",
    "Pour faire communiquer nos robots, nous allons utiliser l'environnement. Nous allons utiliser des balises (`marker`), comme Steels le décrit pour le *Mars Explorer*. Les robots ont deux types balises. Un agent dépose une balise `DANGER` lorsqu'il sort de sables mouvants, afin que les autres agents n'y pénètrent pas, et une balise `INDICATION`, déposée lorsque l'agent démine, et qui indique dans quelle direction il est allé. Un agent qui détecte une balise `DANGER` fera demi-tour. Un agent détectant une balise `INDICATION` modifie son angle afin de se déplacer à 90° dans une direction ou l'autre par rapport à l'angle indiqué sur la balise. Un robot détectant une balise se déplace jusqu'à elle, la ramasse et fait demi-tour.\n",
    "\n",
    "Plus formellement, voici la description des comportements attendus pour le robot:\n",
    "- **Faire demi-tour** Lorsqu'un agent détecte une balise `DANGER`, il fait demi-tour.\n",
    "- **Tourner à 90°** Lorsqu'un agent détecte une balise `INDICATION`, il se dirige à 90° de la direction indiquée par la balise\n",
    "- **Déposer une balise** Lorsqu'un agent vient de sortir des sables mouvants, un agent dépose une balise `DANGER`; lorsqu'un agent démine, il dépose une balise `INDICATION` dont la `direction` indique la direction dans laquelle se dirige l'agent. Attention, pour éviter que le robot ne soit influencé par la balise qu'il vient de déposer, un compteur de tour est initialisé à `speed/2` durant lequel le robot ignore les balises qu'il voit.\n",
    "\n",
    "La classe de balise a déjà été implémentée:"
   ]
  },
  {
   "cell_type": "code",
   "execution_count": null,
   "metadata": {},
   "outputs": [
    {
     "name": "stdout",
     "output_type": "stream",
     "text": [
      "Socket opened!\n",
      "{\"type\":\"reset\"}\n"
     ]
    }
   ],
   "source": [
    "class MarkerPurpose(Enum):  # Enum pour les types de balises\n",
    "    DANGER = enum.auto(),\n",
    "    INDICATION = enum.auto()\n",
    "\n",
    "    \n",
    "class Marker:  # La classe pour les balises\n",
    "    def __init__(self, x, y, purpose, direction=None):\n",
    "        self.x = x\n",
    "        self.y = y\n",
    "        self.purpose = purpose\n",
    "        if purpose == MarkerPurpose.INDICATION:\n",
    "            if direction is not None:\n",
    "                self.direction = direction\n",
    "            else:\n",
    "                raise ValueError(\"Direction should not be none for indication marker\")\n",
    "\n",
    "    def portrayal_method(self):\n",
    "        portrayal = {\"Shape\": \"circle\",\n",
    "                     \"Filled\": \"true\",\n",
    "                     \"Layer\": 2,\n",
    "                     \"Color\": \"red\" if self.purpose == MarkerPurpose.DANGER else \"green\",\n",
    "                     \"r\": 2}\n",
    "        return portrayal"
   ]
  },
  {
   "cell_type": "markdown",
   "metadata": {},
   "source": [
    "**Question 4** – Commentez ce dernier point au regard des principes de l'architecture réactive."
   ]
  },
  {
   "cell_type": "markdown",
   "metadata": {},
   "source": [
    "Ces nouvelles fonctionalités nous rapprochent gardent toujours dans le cadre de l'architecture du subsomption puisque la communication et les interactions entre les agents ne sont pas directes mais plutôt indirectes en passant par l'intermédiaire de balises posées sur le chemin."
   ]
  },
  {
   "cell_type": "markdown",
   "metadata": {},
   "source": [
    "**Question 5** – Proposez une nouvelle manière d'organiser ces comportements et justifiez."
   ]
  },
  {
   "cell_type": "markdown",
   "metadata": {},
   "source": [
    "Une nouvelle organisation consiste à garder la même que précédemment, juste introduire parmi les tests de detection, la detection des balises, qui modifient l'angle des agents et dont la prochaine destination possible."
   ]
  },
  {
   "cell_type": "markdown",
   "metadata": {},
   "source": [
    "**Question 6** – Relancez 10 simulations et incluez un graphe dans le rendu du TP. Quel est le temps moyen de désamorçage des mines? Commentez."
   ]
  },
  {
   "cell_type": "markdown",
   "metadata": {},
   "source": [
    "*Voir graph_é et temps_deminage_10* \n",
    "\n",
    "Le temps moyen de déminage est d'environ une centaine d'étapes. "
   ]
  },
  {
   "cell_type": "markdown",
   "metadata": {},
   "source": [
    "**Question 7** – Ajoutez un reporter permettant de suivre le nombre de tours passés dans les sables mouvants. Comment les balises `DANGER` influencent-elles le temps moyen passé dans les sables mouvants ?"
   ]
  },
  {
   "cell_type": "markdown",
   "metadata": {},
   "source": [
    "Elles réduisent le temps passé dans les sables mouvants car empêchent les agents de venir ralentir à l'intérieur à chaque fois."
   ]
  },
  {
   "cell_type": "markdown",
   "metadata": {},
   "source": [
    "**Question Bonus** – Ajouter le mécanisme suivant: on suppose désormais que les agents sont capables de transmettre un signal leur permettant de savoir où se trouvent les autres. Lorsqu'un agent modifie son angle aléatoirement, faites en sorte qu'il se tourne de manière à maximiser l'angle entre sa nouvelle direction et la direction envers chacun de ses 2 pluss proches voixins. Relancez 10 expérimentations. Qu'observez-vous ?"
   ]
  },
  {
   "cell_type": "markdown",
   "metadata": {},
   "source": [
    "*Insérez votre réponse ici*"
   ]
  }
 ],
 "metadata": {
  "kernelspec": {
   "display_name": "Python 3 (ipykernel)",
   "language": "python",
   "name": "python3"
  },
  "language_info": {
   "codemirror_mode": {
    "name": "ipython",
    "version": 3
   },
   "file_extension": ".py",
   "mimetype": "text/x-python",
   "name": "python",
   "nbconvert_exporter": "python",
   "pygments_lexer": "ipython3",
   "version": "3.9.7"
  }
 },
 "nbformat": 4,
 "nbformat_minor": 4
}
